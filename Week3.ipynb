{
  "nbformat": 4,
  "nbformat_minor": 0,
  "metadata": {
    "colab": {
      "name": "Week3.ipynb",
      "version": "0.3.2",
      "provenance": [],
      "collapsed_sections": [],
      "include_colab_link": true
    },
    "kernelspec": {
      "name": "python3",
      "display_name": "Python 3"
    }
  },
  "cells": [
    {
      "cell_type": "markdown",
      "metadata": {
        "id": "view-in-github",
        "colab_type": "text"
      },
      "source": [
        "<a href=\"https://colab.research.google.com/github/KelianF/BioInformatics/blob/master/Week3.ipynb\" target=\"_parent\"><img src=\"https://colab.research.google.com/assets/colab-badge.svg\" alt=\"Open In Colab\"/></a>"
      ]
    },
    {
      "cell_type": "code",
      "metadata": {
        "id": "8dSBGg3vL-gK",
        "colab_type": "code",
        "colab": {}
      },
      "source": [
        "import itertools\n",
        "import pandas as pd\n"
      ],
      "execution_count": 0,
      "outputs": []
    },
    {
      "cell_type": "code",
      "metadata": {
        "id": "Ik9RUirr1fUt",
        "colab_type": "code",
        "colab": {}
      },
      "source": [
        "import itertools\n",
        "import pandas as pd\n",
        "\n",
        "def HammingDistance(str1, str2):\n",
        "    i = 0\n",
        "    if len(str1) == len(str2):\n",
        "        for x in range(len(str1)):\n",
        "            if str1[x] != str2[x]:\n",
        "                i += 1\n",
        "    return i\n",
        "\n",
        "def MotifEnumeration(Dna, k, d):\n",
        "    dico = {}\n",
        "    for x in [''.join(x) for x in list(itertools.product('ACTG', repeat=k))]:\n",
        "        dico[x] = ''\n",
        "    pointer = '0'\n",
        "    for strand in Dna:\n",
        "        for x in range(len(strand) - k +1):\n",
        "            for key in dico.keys():\n",
        "                if HammingDistance(strand[x:x+k], key) <= d:\n",
        "                    if pointer not in dico[key]:\n",
        "                        dico[key] += pointer\n",
        "        pointer = str(int(pointer)+1)\n",
        "        \n",
        "    print(' '.join(pd.Series(dico)[pd.Series(dico) == '012345'].index))\n",
        "                \n",
        "            \n",
        "    "
      ],
      "execution_count": 0,
      "outputs": []
    },
    {
      "cell_type": "code",
      "metadata": {
        "id": "WEiym6QrA6eK",
        "colab_type": "code",
        "outputId": "b489ae7d-1cc9-4d14-8529-0fb76d3c0e46",
        "colab": {
          "base_uri": "https://localhost:8080/",
          "height": 34
        }
      },
      "source": [
        "MotifEnumeration(['ATTTGGC','TGCCTTA','CGGTATC','GAAAATT'], 3, 1)"
      ],
      "execution_count": 0,
      "outputs": [
        {
          "output_type": "stream",
          "text": [
            "ATA ATT TTT GTT\n"
          ],
          "name": "stdout"
        }
      ]
    },
    {
      "cell_type": "code",
      "metadata": {
        "id": "Qo_YU5K8ZAYt",
        "colab_type": "code",
        "outputId": "61b7f7d1-aeee-4edf-8f13-3b790a27168c",
        "colab": {
          "base_uri": "https://localhost:8080/",
          "height": 34
        }
      },
      "source": [
        "MotifEnumeration(['CAAGGGGTCCGCTCGCTAAAACCAT','TCCATAGCAGCAGAGTGCCAATCCC','CCCATATCCCTTCCCGGTACAACCC','ATTTCCCCATTTGGCCGGCCGGCCG','ATCTATAAACCAGTACCTGGACCAT','TACCGTTAAGTCCATGATGTATAGT'], 5, 1)"
      ],
      "execution_count": 0,
      "outputs": [
        {
          "output_type": "stream",
          "text": [
            "ACCAT CCCAT TCCAT TCCCT GCCAT GTCCC\n"
          ],
          "name": "stdout"
        }
      ]
    },
    {
      "cell_type": "code",
      "metadata": {
        "id": "W0eyt2gojiSk",
        "colab_type": "code",
        "colab": {}
      },
      "source": [
        "def Enthropy(Motifs):\n",
        "    dico = {}\n",
        "    for x in range(len(Motifs[0])):\n",
        "        dico[x] = {}\n",
        "    for Mot in Motifs:\n",
        "        for x in range(len(Mot)):\n",
        "            if Mot[x] in dico[x].keys():\n",
        "                dico[x][Mot[x]] += 1\n",
        "            else:\n",
        "                dico[x][Mot[x]] = 1\n",
        "    return(-sum([ sum([(x/10)*np.log2((x/10)) for x in dico[dic].values()])  for dic in dico.keys() ]))\n"
      ],
      "execution_count": 0,
      "outputs": []
    },
    {
      "cell_type": "code",
      "metadata": {
        "id": "5AjX1nKYjjg4",
        "colab_type": "code",
        "colab": {}
      },
      "source": [
        "def Profile(Motifs):\n",
        "\tt = len(Motifs)\n",
        "\tk = len(Motifs[0])\n",
        "\tprofile = {}\n",
        "    # insert your code here\n",
        "\tfor symbol in \"ACGT\": #COUNT FOR EACH SYMBOL A C G T\n",
        "\t\tprofile[symbol]=[]\n",
        "\t\tfor i in range(k):\n",
        "\t\t\tprofile[symbol].append(0) \n",
        "\tfor i in range(t):\n",
        "\t\tfor j in range(k):\n",
        "\t\t\tsymbol = Motifs[i][j]\n",
        "\t\t\tprofile[symbol][j] += 1/t\n",
        "\treturn profile"
      ],
      "execution_count": 0,
      "outputs": []
    },
    {
      "cell_type": "code",
      "metadata": {
        "id": "k5JfVp8vNUpH",
        "colab_type": "code",
        "colab": {}
      },
      "source": [
        "def HammingDistance(str1, str2):\n",
        "    i = 0\n",
        "    if len(str1) == len(str2):\n",
        "        for x in range(len(str1)):\n",
        "            if str1[x] != str2[x]:\n",
        "                i += 1\n",
        "    return i\n",
        "\n",
        "def MedianString(k, DNA):\n",
        "    dico = {}\n",
        "    for x in [''.join(x) for x in list(itertools.product('ACTG', repeat=k))]:\n",
        "        dico[x] = 0\n",
        "\n",
        "    for dic in dico.keys():\n",
        "        dico[dic] = (sum([min([HammingDistance(dic,Strand[x:x+k]) for x in range(len(Strand)-k+1)]) for Strand in DNA]))\n",
        "    print(' '.join(x for x in pd.Series(dico)[pd.Series(dico) == pd.Series(dico).min()].index))"
      ],
      "execution_count": 0,
      "outputs": []
    },
    {
      "cell_type": "code",
      "metadata": {
        "id": "IF8oZ3_oPnXw",
        "colab_type": "code",
        "colab": {
          "base_uri": "https://localhost:8080/",
          "height": 34
        },
        "outputId": "cc0b5010-1b33-4e2a-c066-528863843369"
      },
      "source": [
        "k =3\n",
        "DNA = ['AAATTGACGCAT',\n",
        "'GACGACCACGTT',\n",
        "'CGTCAGCGCCTG',\n",
        "'GCTGAGCACCGG',\n",
        "'AGTTCGGGACAG']\n",
        "\n",
        "MedianString(k, DNA)"
      ],
      "execution_count": 121,
      "outputs": [
        {
          "output_type": "stream",
          "text": [
            "GAC\n"
          ],
          "name": "stdout"
        }
      ]
    },
    {
      "cell_type": "code",
      "metadata": {
        "id": "ed76KQ68VVGR",
        "colab_type": "code",
        "colab": {}
      },
      "source": [
        "def ProfileMostProbable(Text, k, profile):\n",
        "    dico = {}\n",
        "    for x in range(len(Text) - k + 1):\n",
        "        dico[Text[x:x+k]] = 0\n",
        "    for key in dico.keys():\n",
        "        dico[key] = np.product( [profile[key[x]][x] for x in range(len(key)) ])\n",
        "    print(' '.join(x for x in pd.Series(dico)[pd.Series(dico) == pd.Series(dico).max()].index))"
      ],
      "execution_count": 0,
      "outputs": []
    },
    {
      "cell_type": "code",
      "metadata": {
        "id": "-Z-ahVbcVVdP",
        "colab_type": "code",
        "colab": {
          "base_uri": "https://localhost:8080/",
          "height": 34
        },
        "outputId": "8b231b9a-c072-489a-fce7-e7747da9b70c"
      },
      "source": [
        "Text = 'ACCTGTTTATTGCCTAAGTTCCGAACAAACCCAATATAGCCCGAGGGCCT'\n",
        "k = 5\n",
        "profile = {\n",
        "    'A': [0.2, 0.2, 0.3, 0.2, 0.3],\n",
        "    'C': [0.4, 0.3, 0.1, 0.5, 0.1],\n",
        "    'G': [0.3, 0.3, 0.5, 0.2, 0.4],\n",
        "    'T': [0.1, 0.2, 0.1, 0.1, 0.2]}\n",
        "\n",
        "ProfileMostProbable(Text, k, profile)"
      ],
      "execution_count": 154,
      "outputs": [
        {
          "output_type": "stream",
          "text": [
            "CCGAG\n"
          ],
          "name": "stdout"
        }
      ]
    },
    {
      "cell_type": "code",
      "metadata": {
        "id": "Yt4WzaLqVVvZ",
        "colab_type": "code",
        "colab": {}
      },
      "source": [
        "def Score(List):\n",
        "    dico = {}\n",
        "    for x in range(len(List[0])):\n",
        "        dico[x] = {}\n",
        "    for x in List:\n",
        "        for y in range(len(x)):\n",
        "            if x[y] not in dico[y].keys():\n",
        "                dico[y][x[y]] = 1\n",
        "            else:\n",
        "                dico[y][x[y]] += 1\n",
        "                \n",
        "    return -sum([ sum([(x/10)*np.log2((x/10)) for x in dico[dic].values()])  for dic in dico.keys() ])\n",
        "\n",
        "def GreedyMotifSearch(DNA, K, t):\n",
        "    dico = {}\n",
        "    for x in range(len(DNA[0])-k+1):\n",
        "        for xx in range(len(DNA[0])-k+1):\n",
        "            for xxx in range(len(DNA[0])-k+1):\n",
        "                for xxxx in range(len(DNA[0])-k+1):\n",
        "                    for xxxxx in range(len(DNA[0])-k+1):\n",
        "                        dico[DNA[0][x:x+k]+ DNA[1][xx:xx+k]+DNA[2][xxx:xxx+k]+DNA[3][xxxx:xxxx+k]+DNA[4][xxxxx:xxxxx+k]] = Score([DNA[0][x:x+k], DNA[1][xx:xx+k],DNA[2][xxx:xxx+k],DNA[3][xxxx:xxxx+k],DNA[4][xxxxx:xxxxx+k]])\n",
        "    print(' '.join(x for x in pd.Series(dico)[pd.Series(dico) == pd.Series(dico).min()].index))\n",
        "    "
      ],
      "execution_count": 0,
      "outputs": []
    },
    {
      "cell_type": "code",
      "metadata": {
        "id": "2P2BHJxXraV3",
        "colab_type": "code",
        "colab": {}
      },
      "source": [
        "dic = {}\n",
        "\n",
        "for x in range(len(DNA[0])-k+1):\n",
        "    dic[x] = ''\n",
        "    for z in range(len(DNA)):\n",
        "        dic[x] += DNA[z][x:x+k]"
      ],
      "execution_count": 0,
      "outputs": []
    },
    {
      "cell_type": "code",
      "metadata": {
        "id": "x2mPsbZBuS79",
        "colab_type": "code",
        "colab": {}
      },
      "source": [
        "dico = {}\n",
        "for x in range(len(DNA[0])-k+1):\n",
        "    dico[x] = [DNA[y][x:x+k] for y in range(len(DNA))]\n"
      ],
      "execution_count": 0,
      "outputs": []
    },
    {
      "cell_type": "code",
      "metadata": {
        "id": "VNszeb-01hCm",
        "colab_type": "code",
        "colab": {
          "base_uri": "https://localhost:8080/",
          "height": 192
        },
        "outputId": "af86eb05-accb-4416-9b69-be3e70660a35"
      },
      "source": [
        "[[DNA[y][x:x+k] for y in range(len(DNA))] for x in range(len(DNA[0])-k+1)]"
      ],
      "execution_count": 361,
      "outputs": [
        {
          "output_type": "execute_result",
          "data": {
            "text/plain": [
              "[['GGC', 'AAG', 'CAA', 'CAC', 'CAA'],\n",
              " ['GCG', 'AGA', 'AAG', 'ACG', 'AAT'],\n",
              " ['CGT', 'GAA', 'AGG', 'CGT', 'ATA'],\n",
              " ['GTT', 'AAT', 'GGA', 'GTC', 'TAA'],\n",
              " ['TTC', 'ATC', 'GAG', 'TCA', 'AAT'],\n",
              " ['TCA', 'TCA', 'AGT', 'CAA', 'ATA'],\n",
              " ['CAG', 'CAG', 'GTT', 'AAT', 'TAT'],\n",
              " ['AGG', 'AGT', 'TTC', 'ATC', 'ATT'],\n",
              " ['GGC', 'GTC', 'TCG', 'TCA', 'TTC'],\n",
              " ['GCA', 'TCA', 'CGC', 'CAC', 'TCG']]"
            ]
          },
          "metadata": {
            "tags": []
          },
          "execution_count": 361
        }
      ]
    },
    {
      "cell_type": "code",
      "metadata": {
        "id": "oFcuWv5C0tLJ",
        "colab_type": "code",
        "colab": {
          "base_uri": "https://localhost:8080/",
          "height": 192
        },
        "outputId": "9c65ad00-c742-41d8-9f64-631720dba7ee"
      },
      "source": [
        "list(zip([[DNA[y][x:x+k] for y in range(len(DNA))] for x in range(len(DNA[0])-k+1)]))\n"
      ],
      "execution_count": 362,
      "outputs": [
        {
          "output_type": "execute_result",
          "data": {
            "text/plain": [
              "[(['GGC', 'AAG', 'CAA', 'CAC', 'CAA'],),\n",
              " (['GCG', 'AGA', 'AAG', 'ACG', 'AAT'],),\n",
              " (['CGT', 'GAA', 'AGG', 'CGT', 'ATA'],),\n",
              " (['GTT', 'AAT', 'GGA', 'GTC', 'TAA'],),\n",
              " (['TTC', 'ATC', 'GAG', 'TCA', 'AAT'],),\n",
              " (['TCA', 'TCA', 'AGT', 'CAA', 'ATA'],),\n",
              " (['CAG', 'CAG', 'GTT', 'AAT', 'TAT'],),\n",
              " (['AGG', 'AGT', 'TTC', 'ATC', 'ATT'],),\n",
              " (['GGC', 'GTC', 'TCG', 'TCA', 'TTC'],),\n",
              " (['GCA', 'TCA', 'CGC', 'CAC', 'TCG'],)]"
            ]
          },
          "metadata": {
            "tags": []
          },
          "execution_count": 362
        }
      ]
    },
    {
      "cell_type": "code",
      "metadata": {
        "id": "TtycrRzl18VN",
        "colab_type": "code",
        "colab": {}
      },
      "source": [
        "x = list(zip([[DNA[y][x:x+k] for y in range(len(DNA))] for x in range(len(DNA[0])-k+1)]))\n"
      ],
      "execution_count": 0,
      "outputs": []
    },
    {
      "cell_type": "code",
      "metadata": {
        "id": "b7WGL2Yz18Db",
        "colab_type": "code",
        "colab": {
          "base_uri": "https://localhost:8080/",
          "height": 34
        },
        "outputId": "36e17953-4ec1-4443-8d9e-63bbe7700410"
      },
      "source": [
        "for z in x:\n",
        "    print(z)"
      ],
      "execution_count": 374,
      "outputs": [
        {
          "output_type": "stream",
          "text": [
            "['GCA', 'TCA', 'CGC', 'CAC', 'TCG']\n"
          ],
          "name": "stdout"
        }
      ]
    },
    {
      "cell_type": "code",
      "metadata": {
        "id": "NHxZFtYj17xC",
        "colab_type": "code",
        "colab": {}
      },
      "source": [
        ""
      ],
      "execution_count": 0,
      "outputs": []
    },
    {
      "cell_type": "code",
      "metadata": {
        "id": "18wtBuv6byD5",
        "colab_type": "code",
        "colab": {
          "base_uri": "https://localhost:8080/",
          "height": 34
        },
        "outputId": "e95728b2-39a8-41f4-f6c0-a9c013cf19cd"
      },
      "source": [
        "k=3 \n",
        "t=5\n",
        "DNA = [\n",
        "'GGCGTTCAGGCA',\n",
        "'AAGAATCAGTCA',\n",
        "'CAAGGAGTTCGC',\n",
        "'CACGTCAATCAC',\n",
        "'CAATAATATTCG']\n",
        "\n",
        "GreedyMotifSearch(DNA, k, t)"
      ],
      "execution_count": 332,
      "outputs": [
        {
          "output_type": "stream",
          "text": [
            "TTCATCTTCATCTTC TTCGTCTTCGTCTTC TCATCATCGTCATCG CAGCAGCAACAACAA\n"
          ],
          "name": "stdout"
        }
      ]
    },
    {
      "cell_type": "code",
      "metadata": {
        "id": "eEdo8JO33WyQ",
        "colab_type": "code",
        "colab": {}
      },
      "source": [
        "k=12\n",
        "t=25\n",
        "DNA = [\n",
        "'CCGATCCGTCTACCATGAACATTCAGCATTGCACTGATAGCCGAATGATAGCGACCCGATACTCCAATGCGTAGTGACCGACACGAAGTCGCGGATGAACCGTAGGTATGCGACGGTTGTATGAGAGTGGCCTAATTAAAATTCGCTGAGCTATTT',\n",
        "'GGCCGTTTAGGCCGACTCCAAGTAACCGCATTACTGCCTAATATGATGCCTATATTGCAGGCCAATGTTTAAAAAGGTGTGCTTGCTTCAGCACACGGCCGGCGCGGTGTTCAGTCTGAATCGTAGAAGTGTCTATATTTATAAGATGTCGTGGCT',\n",
        "'CATGCTGTAAAGCCGAAAAGCGATAGGAGGGTTCCTGAAGACCCGGCGAAAGAGAAGTGTCGATGGCTGGATTTCGTTCTATCAAGCACTGCCAGAGGCACGCCTAGGTGTCAGACGGAAGAGGTCGTGGCTGGCTTGCTCTCGCTATAAAGGAAT',\n",
        "'GCTGTCGCCGACCCTTACCAGCGTGCAGTGGCGCTAATTGTTTAGTGAGCAGAAGCTAAGTGATCAGAAGCGCCGCTAGTCCGGCTGCGACGACGCGCTCTTCAAACAGCGCATACGAACGGTGGCTATTCATACTTAACGTTAGATGTCGGGGTC',\n",
        "'GAAGAGCTCGCATGCAGCCTCCCCGTATGAGGTGCACAATTTCTGCGTTCCGCGCTGGGCCCGCATACCTAGGATTAAAATCCGTGGTCTGTATACACAATCTATGTTAACGCGACTTCTGACGTCGGGGTTAAAGTTAGCTACGGCATCCAGCCT',\n",
        "'TACGTAAAGCCTATCTGGTAACTTTTTACCCTGGCTGGTCAAAGCGTACACAGGTCGTCCGAAGTCGGGGTACACCCGACAGGCTGAGGGAGGGACCGCGCCTACATCGGCAAAGAGCTGACTAGCCGAGTCGGCGCTTGCACAAACTCACAACGA',\n",
        "'ACACAGCCGAGCTAAGTAATGCTGTGGTGCTGCGCTCTTATAGACTTCGACGTCGAGGCCCAGAAGCGGACCGCTGCGTTCTTCCCCCCGTTCGTAAGTGAAACTCTGGCTCTAATACTCAGAGGCTATATGCGTAGTGTCATTGATATCTCTAAC',\n",
        "'GATGTCGAGGAGGTATTTTACCAGAATGTGGGCGTGGAGGGCCCCCGTCCTTGTGCTAGACCGACTCATTGGTCGGTTGGCTAGGACCTTGTTATCGTTGAATGGCTGCATAAATAACCCGGCTCAGGACTGGTTCTGGCGGTCGCAGCTTCGTTT',\n",
        "'TTTCATCCTGACGCGTCCTCCCTAAGGCGCTGCGTTATTTGAGTTCCCACGTGCCTCCGAGTCCTCCCGACTTCGAACAAGTAGTATGCTTACTCGACGCTCTATCAGCGAGAGCTCCGCGAAGTCGCGGCTTTTCTTGCTACGGTATTTTTTATA',\n",
        "'TGTAAGCCTGGTCCCTCTATACAACTGTCGCAGTGCTGCCCCTGATACCCGGTGGAAAGAGATGTCGTGGGGATACCAACGTAGATCGAAGTTTAGAAATTGAAAGGAATGACATCTTTCACCGGGGAGGGTCCCTACGACATGATCCGGCCATAA',\n",
        "'GTTCTTCCATGGGACGATCATCTTCCGAACTAGGGGAACTTAAAAAATCCGTAGTCTTTCTGTGTATGGCCTGAGTCCTAGTTATCACATTGCTTCGACGTCGTGGCATGATTCGGCTGTTGACCTAAAAGGCTGATTCTGCTAGGGGCCGGACGC',\n",
        "'CGCGCTTACAGCGGGTTCCGATGTTACCCATGATGGAGCTCCTGTAAGCGCTAGATATCTTGTACTCCAGATGACGTCGTGGTCACACCCACGTTAGACCCCGAGTGATAGTAGGACACGAACTTAGGACAGGCTTTACCAGATTTAATTCACCGA',\n",
        "'GTCAGCCTATTTCTGCGAATATCTTAGACATCGCGCCGCTCTCCGTGCTGGTTGATCCAACATTGGCTAAGTCGGCTTGGGGAAAGTGCTACATCTGATGTCGTGGAGACACTCGAGTGTTTTCTGCATCTATATTCCTTCCAGACCACATAACGA',\n",
        "'TGAGCTATAGAAACCTATCGTAAAGCTCGGAAAGTCGATGTCGAGGCTCAATGTGGGGTCACTTGGACATTCCCATGTATGGGCGTTTTCTTACTGCGTTATACTTGAGAGTGTAGGCTCAACCGCCTAACTGACTCCACAGGTTTGTTCTGTACT',\n",
        "'GTGCAAAGATAACAAACGATCGCTGACCGAAATGCTAGTCGAAATAAAATCCGAGCCCTTGGCGACATCCCCATAGGTTCTAAACTCTTTGCACAGCTTCCGAGAAATGTACATCAAAAAGAAGTCGGGGTTTTGGCGAGCCTATCCGTTCACTCC',\n",
        "'CAGTCACAACGGACGGTTGTCCGGTGGATTTTGAGAGAAGTCGAGGCAGTGTTTGCAAGCGTTGGAGACTACATGATTTGTATCGGATGTGAAAAAGGCCGATCTGCTGTTACTATTTGTGATTTAGGTAATTATATATTCAGCCCTCGGACCTGG',\n",
        "'CCTTCGGTATAAGGCCCGTGACTCGTAACCAAGGTTGGTGGATGATCATAAGTATGATAAAATACTTACACATGCATACGTGTTGGCGGGCGGCTGCTCGATCAAGTAGAAGTCGGGGGGTGCAATGGAGCTAAATTCTTTTTCCATATCGGCCGG',\n",
        "'GTCGTCCTTCCTAAACATTATGGTGACGTCGTGGGCGCTTAGTTCGGCGCGAGATCCCTGTAGTGGGGGCTTTAAGTGCTACTCTGGACGTCAGGATTTAATCGTTTGTCTTCCTGTATGCTCTCCATAAGCAGGAGCTGCAATTTTATATGGCAC',\n",
        "'TAGACGCTACATGTGTCAGCGAGTGTGCCCACATGGGACGTGGGTTTGCCCCGCCGGTAAAGGTGATCGCAAGTACGGTCCTGGGGCAGAACCGTGCCCCTCGTTTGTGCTTCACAAACGGGCGTCGTGACGGAAGTCGCGGGCTATCGGGGGTTT',\n",
        "'CCGGTCCAAGCAGGGATTTTGCATGAGCGAGCAACCCTCCGCGCTTTGAATCGGACATCGTTAACGACACTTGATTCCCGGACAGCAACCCGAACATATCAAATCCGATCAGCACTCGCAATTCGCGTATCCGAGGTCGCGGAGCGCAGAAAATGA',\n",
        "'ACTTCTGCTGTTAGCAACCCATAACTAGCGAGGAGTCGTGCCGACCCCCAGTTGATGTTCCCGCCCGGAACGCAGGGACTGGCATGTCACGAGCCAGAGGATAACTCGCTAAGCCGAATTGAAGTCGCGGTTTATGTGCCATGGGGTCATATGGAT',\n",
        "'GAAGTCGCGGGTGACCTACAAAGAAACGAACAATATTATGCGCGCCGTGGGTCTTCACCTCGTCGGCCTGATCGGGGAGATCTCGGTCACCTGCAGCTGTGCTCCCGAACGAACTACCTCATATGGCAGATATAGATCCTGTCCGGGGGTGCCTTG',\n",
        "'AGTCGTAGCACGCCCCCAAGGTATCGGAGCGGCTAGCTGACAGTCGGCGATGTCGGGGAGAGTATGATGAATTGTCTCCGGAACCCTCAGATAGATTGAGCTTAAATCAGCAGACTAATGCTCACAGCTTGTGTCGCCTTGAGAGTCCACTTGGCC',\n",
        "'TCCATGTGGAGCGGATTACATTGTCTTCGCACGCCTTTGTAGACGTGCAACCAATCTGACGACGTCGCGGCTGGGCCTCCCGCCGAAAGAACTTCAGGTCTTTTCGTAAACCGCGGCTTGCTGTGATTTGCCAGGCGATTCGAAGTCGAAGTGAGA',\n",
        "'ACAAACCAACGTTAGATTATATTACGTTGCCTCCACCAGAATGGCTAACTACCGTGTCGGGATGTCGAGGATGGGCATCAGCCGAGGCTTGAGAACCCGTGCCGTCACAGTCGTCTTGGTCGGTAGCGCCTAGGTTAACTAGTACTTCGTTGAACT']\n",
        "\n",
        "#GreedyMotifSearch(DNA, k, t)"
      ],
      "execution_count": 0,
      "outputs": []
    },
    {
      "cell_type": "code",
      "metadata": {
        "id": "FbIGM6x03W9o",
        "colab_type": "code",
        "colab": {}
      },
      "source": [
        "Dico = {}\n",
        "for z in range(len(DNA)):\n",
        "    Dico[z] = set([(DNA[0][x:x+k]) for x in range(len(DNA[z])-k+1)])\n",
        "Dicco = {}\n",
        "for x in [','.join([list(Dico[x])[y] for x in Dico.keys()]) for y in range(len(Dico[0]))]:\n",
        "    Dicco[x] = Score(x.split(\",\"))\n"
      ],
      "execution_count": 0,
      "outputs": []
    },
    {
      "cell_type": "code",
      "metadata": {
        "id": "dYHlVm5EVC1L",
        "colab_type": "code",
        "colab": {}
      },
      "source": [
        ""
      ],
      "execution_count": 0,
      "outputs": []
    },
    {
      "cell_type": "code",
      "metadata": {
        "id": "l2MbeVluaUp8",
        "colab_type": "code",
        "colab": {
          "base_uri": "https://localhost:8080/",
          "height": 174
        },
        "outputId": "789d4769-16e2-45e6-b622-27986bff1882"
      },
      "source": [
        "    print('\\n'.join(x for x in pd.Series(Dicco)[pd.Series(Dicco) == pd.Series(Dicco).min()].index))"
      ],
      "execution_count": 323,
      "outputs": [
        {
          "output_type": "stream",
          "text": [
            "GCG,GCG,GCG,GCG,GCG\n",
            "CAG,CAG,CAG,CAG,CAG\n",
            "TCA,TCA,TCA,TCA,TCA\n",
            "TTC,TTC,TTC,TTC,TTC\n",
            "GTT,GTT,GTT,GTT,GTT\n",
            "CGT,CGT,CGT,CGT,CGT\n",
            "GGC,GGC,GGC,GGC,GGC\n",
            "AGG,AGG,AGG,AGG,AGG\n",
            "GCA,GCA,GCA,GCA,GCA\n"
          ],
          "name": "stdout"
        }
      ]
    },
    {
      "cell_type": "code",
      "metadata": {
        "id": "j2npsDirmVs2",
        "colab_type": "code",
        "colab": {}
      },
      "source": [
        ""
      ],
      "execution_count": 0,
      "outputs": []
    }
  ]
}