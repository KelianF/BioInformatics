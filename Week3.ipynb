{
  "nbformat": 4,
  "nbformat_minor": 0,
  "metadata": {
    "colab": {
      "name": "Week3.ipynb",
      "version": "0.3.2",
      "provenance": [],
      "collapsed_sections": [],
      "include_colab_link": true
    },
    "kernelspec": {
      "name": "python3",
      "display_name": "Python 3"
    },
    "accelerator": "TPU"
  },
  "cells": [
    {
      "cell_type": "markdown",
      "metadata": {
        "id": "view-in-github",
        "colab_type": "text"
      },
      "source": [
        "<a href=\"https://colab.research.google.com/github/KelianF/BioInformatics/blob/master/Week3.ipynb\" target=\"_parent\"><img src=\"https://colab.research.google.com/assets/colab-badge.svg\" alt=\"Open In Colab\"/></a>"
      ]
    },
    {
      "cell_type": "code",
      "metadata": {
        "id": "8dSBGg3vL-gK",
        "colab_type": "code",
        "colab": {}
      },
      "source": [
        "import itertools\n",
        "import pandas as pd\n",
        "import numpy as np"
      ],
      "execution_count": 0,
      "outputs": []
    },
    {
      "cell_type": "code",
      "metadata": {
        "id": "Ik9RUirr1fUt",
        "colab_type": "code",
        "colab": {}
      },
      "source": [
        "import itertools\n",
        "import pandas as pd\n",
        "\n",
        "def HammingDistance(str1, str2):\n",
        "    i = 0\n",
        "    if len(str1) == len(str2):\n",
        "        for x in range(len(str1)):\n",
        "            if str1[x] != str2[x]:\n",
        "                i += 1\n",
        "    return i\n",
        "\n",
        "def MotifEnumeration(Dna, k, d):\n",
        "    dico = {}\n",
        "    for x in [''.join(x) for x in list(itertools.product('ACTG', repeat=k))]:\n",
        "        dico[x] = ''\n",
        "    pointer = '0'\n",
        "    for strand in Dna:\n",
        "        for x in range(len(strand) - k +1):\n",
        "            for key in dico.keys():\n",
        "                if HammingDistance(strand[x:x+k], key) <= d:\n",
        "                    if pointer not in dico[key]:\n",
        "                        dico[key] += pointer\n",
        "        pointer = str(int(pointer)+1)\n",
        "        \n",
        "    print(' '.join(pd.Series(dico)[pd.Series(dico) == '012345'].index))\n",
        "                \n",
        "            \n",
        "    "
      ],
      "execution_count": 0,
      "outputs": []
    },
    {
      "cell_type": "code",
      "metadata": {
        "id": "WEiym6QrA6eK",
        "colab_type": "code",
        "outputId": "b489ae7d-1cc9-4d14-8529-0fb76d3c0e46",
        "colab": {
          "base_uri": "https://localhost:8080/",
          "height": 34
        }
      },
      "source": [
        "MotifEnumeration(['ATTTGGC','TGCCTTA','CGGTATC','GAAAATT'], 3, 1)"
      ],
      "execution_count": 0,
      "outputs": [
        {
          "output_type": "stream",
          "text": [
            "ATA ATT TTT GTT\n"
          ],
          "name": "stdout"
        }
      ]
    },
    {
      "cell_type": "code",
      "metadata": {
        "id": "W0eyt2gojiSk",
        "colab_type": "code",
        "colab": {}
      },
      "source": [
        "def Enthropy(Motifs):\n",
        "    dico = {}\n",
        "    for x in range(len(Motifs[0])):\n",
        "        dico[x] = {}\n",
        "    for Mot in Motifs:\n",
        "        for x in range(len(Mot)):\n",
        "            if Mot[x] in dico[x].keys():\n",
        "                dico[x][Mot[x]] += 1\n",
        "            else:\n",
        "                dico[x][Mot[x]] = 1\n",
        "    return(-sum([ sum([(x/10)*np.log2((x/10)) for x in dico[dic].values()])  for dic in dico.keys() ]))\n"
      ],
      "execution_count": 0,
      "outputs": []
    },
    {
      "cell_type": "code",
      "metadata": {
        "id": "k5JfVp8vNUpH",
        "colab_type": "code",
        "colab": {}
      },
      "source": [
        "def HammingDistance(str1, str2):\n",
        "    i = 0\n",
        "    if len(str1) == len(str2):\n",
        "        for x in range(len(str1)):\n",
        "            if str1[x] != str2[x]:\n",
        "                i += 1\n",
        "    return i\n",
        "\n",
        "def MedianString(k, DNA):\n",
        "    dico = {}\n",
        "    for x in [''.join(x) for x in list(itertools.product('ACTG', repeat=k))]:\n",
        "        dico[x] = 0\n",
        "\n",
        "    for dic in dico.keys():\n",
        "        dico[dic] = (sum([min([HammingDistance(dic,Strand[x:x+k]) for x in range(len(Strand)-k+1)]) for Strand in DNA]))\n",
        "    print(' '.join(x for x in pd.Series(dico)[pd.Series(dico) == pd.Series(dico).min()].index))"
      ],
      "execution_count": 0,
      "outputs": []
    },
    {
      "cell_type": "code",
      "metadata": {
        "id": "IF8oZ3_oPnXw",
        "colab_type": "code",
        "outputId": "cc0b5010-1b33-4e2a-c066-528863843369",
        "colab": {
          "base_uri": "https://localhost:8080/",
          "height": 34
        }
      },
      "source": [
        "k =3\n",
        "DNA = ['AAATTGACGCAT',\n",
        "'GACGACCACGTT',\n",
        "'CGTCAGCGCCTG',\n",
        "'GCTGAGCACCGG',\n",
        "'AGTTCGGGACAG']\n",
        "\n",
        "MedianString(k, DNA)"
      ],
      "execution_count": 0,
      "outputs": [
        {
          "output_type": "stream",
          "text": [
            "GAC\n"
          ],
          "name": "stdout"
        }
      ]
    },
    {
      "cell_type": "code",
      "metadata": {
        "id": "ed76KQ68VVGR",
        "colab_type": "code",
        "colab": {}
      },
      "source": [
        "def ProfileMostProbable(Text, k, profile):\n",
        "    dico = {}\n",
        "    for x in range(len(Text) - k + 1):\n",
        "        dico[Text[x:x+k]] = 0\n",
        "    for key in dico.keys():\n",
        "        dico[key] = np.product( [profile[key[x]][x] for x in range(len(key)) ])\n",
        "    print(' '.join(x for x in pd.Series(dico)[pd.Series(dico) == pd.Series(dico).max()].index))"
      ],
      "execution_count": 0,
      "outputs": []
    },
    {
      "cell_type": "code",
      "metadata": {
        "id": "-Z-ahVbcVVdP",
        "colab_type": "code",
        "outputId": "8b231b9a-c072-489a-fce7-e7747da9b70c",
        "colab": {
          "base_uri": "https://localhost:8080/",
          "height": 34
        }
      },
      "source": [
        "Text = 'ACCTGTTTATTGCCTAAGTTCCGAACAAACCCAATATAGCCCGAGGGCCT'\n",
        "k = 5\n",
        "profile = {\n",
        "    'A': [0.2, 0.2, 0.3, 0.2, 0.3],\n",
        "    'C': [0.4, 0.3, 0.1, 0.5, 0.1],\n",
        "    'G': [0.3, 0.3, 0.5, 0.2, 0.4],\n",
        "    'T': [0.1, 0.2, 0.1, 0.1, 0.2]}\n",
        "\n",
        "ProfileMostProbable(Text, k, profile)"
      ],
      "execution_count": 0,
      "outputs": [
        {
          "output_type": "stream",
          "text": [
            "CCGAG\n"
          ],
          "name": "stdout"
        }
      ]
    },
    {
      "cell_type": "code",
      "metadata": {
        "id": "Yt4WzaLqVVvZ",
        "colab_type": "code",
        "colab": {}
      },
      "source": [
        "def Score(List):\n",
        "    dico = {}\n",
        "    for x in range(len(List[0])):\n",
        "        dico[x] = {}\n",
        "    for x in List:\n",
        "        for y in range(len(x)):\n",
        "            if x[y] not in dico[y].keys():\n",
        "                dico[y][x[y]] = 1\n",
        "            else:\n",
        "                dico[y][x[y]] += 1\n",
        "                \n",
        "    return -sum([ sum([(x/10)*np.log2((x/10)) for x in dico[dic].values()])  for dic in dico.keys() ])\n",
        "\n",
        "def GreedyMotifSearch(DNA, k, t):\n",
        "    dico = {}\n",
        "    for t in list(itertools.product(*([t for t in  [[DNA[y][x:x+k] for x in range(len(DNA[0])-k+1)] for y in range(len(DNA))]  ]))):\n",
        "        dico[' '.join(v for v in t)] = Score(t)\n",
        "    print(min(dico, key=lambda k: dico[k]))\n",
        "    "
      ],
      "execution_count": 0,
      "outputs": []
    },
    {
      "cell_type": "code",
      "metadata": {
        "id": "WV4hZF_Dt-Rb",
        "colab_type": "code",
        "outputId": "e9a77bff-9fa3-4a66-901a-f2f9eada31e8",
        "colab": {
          "base_uri": "https://localhost:8080/",
          "height": 34
        }
      },
      "source": [
        "k=3\n",
        "t=5\n",
        "DNA = [\n",
        "'GGCGTTCAGGCA',\n",
        "'AAGAATCAGTCA',\n",
        "'CAAGGAGTTCGC',\n",
        "'CACGTCAATCAC',\n",
        "'CAATAATATTCG']\n",
        "\n",
        "GreedyMotifSearch(DNA, k, t)"
      ],
      "execution_count": 0,
      "outputs": [
        {
          "output_type": "stream",
          "text": [
            "TTC ATC TTC ATC TTC\n"
          ],
          "name": "stdout"
        }
      ]
    }
  ]
}