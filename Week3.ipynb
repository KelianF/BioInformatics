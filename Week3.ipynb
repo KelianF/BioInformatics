{
  "nbformat": 4,
  "nbformat_minor": 0,
  "metadata": {
    "colab": {
      "name": "Week3.ipynb",
      "version": "0.3.2",
      "provenance": [],
      "include_colab_link": true
    },
    "kernelspec": {
      "name": "python3",
      "display_name": "Python 3"
    }
  },
  "cells": [
    {
      "cell_type": "markdown",
      "metadata": {
        "id": "view-in-github",
        "colab_type": "text"
      },
      "source": [
        "<a href=\"https://colab.research.google.com/github/KelianF/BioInformatics/blob/master/Week3.ipynb\" target=\"_parent\"><img src=\"https://colab.research.google.com/assets/colab-badge.svg\" alt=\"Open In Colab\"/></a>"
      ]
    },
    {
      "cell_type": "code",
      "metadata": {
        "id": "MUDRsuqS-ae1",
        "colab_type": "code",
        "colab": {}
      },
      "source": [
        "import itertools\n",
        "import pandas as pd\n",
        "import numpy as np"
      ],
      "execution_count": 0,
      "outputs": []
    },
    {
      "cell_type": "code",
      "metadata": {
        "id": "Ik9RUirr1fUt",
        "colab_type": "code",
        "colab": {}
      },
      "source": [
        "\n",
        "\n",
        "def HammingDistance(str1, str2):\n",
        "    i = 0\n",
        "    if len(str1) == len(str2):\n",
        "        for x in range(len(str1)):\n",
        "            if str1[x] != str2[x]:\n",
        "                i += 1\n",
        "    return i\n",
        "\n",
        "def MotifEnumeration(Dna, k, d):\n",
        "    dico = {}\n",
        "    for x in [''.join(x) for x in list(itertools.product('ACTG', repeat=k))]:\n",
        "        dico[x] = ''\n",
        "    pointer = '0'\n",
        "    for strand in Dna:\n",
        "        for x in range(len(strand) - k +1):\n",
        "            for key in dico.keys():\n",
        "                if HammingDistance(strand[x:x+k], key) <= d:\n",
        "                    if pointer not in dico[key]:\n",
        "                        dico[key] += pointer\n",
        "        pointer = str(int(pointer)+1)\n",
        "        \n",
        "    print(' '.join(pd.Series(dico)[pd.Series(dico) == '012345'].index))\n",
        "                \n",
        "            \n",
        "    "
      ],
      "execution_count": 0,
      "outputs": []
    },
    {
      "cell_type": "code",
      "metadata": {
        "id": "WEiym6QrA6eK",
        "colab_type": "code",
        "colab": {
          "base_uri": "https://localhost:8080/",
          "height": 34
        },
        "outputId": "b489ae7d-1cc9-4d14-8529-0fb76d3c0e46"
      },
      "source": [
        "MotifEnumeration(['ATTTGGC','TGCCTTA','CGGTATC','GAAAATT'], 3, 1)"
      ],
      "execution_count": 75,
      "outputs": [
        {
          "output_type": "stream",
          "text": [
            "ATA ATT TTT GTT\n"
          ],
          "name": "stdout"
        }
      ]
    },
    {
      "cell_type": "code",
      "metadata": {
        "id": "Qo_YU5K8ZAYt",
        "colab_type": "code",
        "colab": {
          "base_uri": "https://localhost:8080/",
          "height": 34
        },
        "outputId": "61b7f7d1-aeee-4edf-8f13-3b790a27168c"
      },
      "source": [
        "MotifEnumeration(['CAAGGGGTCCGCTCGCTAAAACCAT','TCCATAGCAGCAGAGTGCCAATCCC','CCCATATCCCTTCCCGGTACAACCC','ATTTCCCCATTTGGCCGGCCGGCCG','ATCTATAAACCAGTACCTGGACCAT','TACCGTTAAGTCCATGATGTATAGT'], 5, 1)"
      ],
      "execution_count": 79,
      "outputs": [
        {
          "output_type": "stream",
          "text": [
            "ACCAT CCCAT TCCAT TCCCT GCCAT GTCCC\n"
          ],
          "name": "stdout"
        }
      ]
    },
    {
      "cell_type": "code",
      "metadata": {
        "id": "khHia5-VkctA",
        "colab_type": "code",
        "colab": {}
      },
      "source": [
        "def Enthropy(Motifs):\n",
        "    dico = {}\n",
        "    for Mot in Motifs:\n",
        "        for x in range(len(Mot)):\n",
        "            if x not in dico.keys():\n",
        "                dico[x] =  {}\n",
        "            if Mot[x] not in dico[x].keys():\n",
        "                dico[x][Mot[x]] = 1\n",
        "            else:\n",
        "                dico[x][Mot[x]] += 1\n",
        "    print(-sum([sum([(x/10)*np.log2(x/10) for x in dico[z].values()]) for z in dico.keys()]))"
      ],
      "execution_count": 0,
      "outputs": []
    },
    {
      "cell_type": "code",
      "metadata": {
        "id": "3dyFiXdmKdE6",
        "colab_type": "code",
        "colab": {
          "base_uri": "https://localhost:8080/",
          "height": 34
        },
        "outputId": "81eed98a-5921-4d44-b36e-6af6b8cd09c9"
      },
      "source": [
        "Motifs = [\n",
        "\"TCGGGGGTTTTT\",\n",
        "\"CCGGTGACTTAC\",\n",
        "\"ACGGGGATTTTC\",\n",
        "\"TTGGGGACTTTT\",\n",
        "\"AAGGGGACTTCC\",\n",
        "\"TTGGGGACTTCC\",\n",
        "\"TCGGGGATTCAT\",\n",
        "\"TCGGGGATTCCT\",\n",
        "\"TAGGGGAACTAC\",\n",
        "\"TCGGGTATAACC\"\n",
        "]\n",
        "\n",
        "\n",
        "Enthropy(Motifs)"
      ],
      "execution_count": 55,
      "outputs": [
        {
          "output_type": "stream",
          "text": [
            "9.916290005356972\n"
          ],
          "name": "stdout"
        }
      ]
    },
    {
      "cell_type": "code",
      "metadata": {
        "id": "mLZNOGQV8Cdu",
        "colab_type": "code",
        "colab": {}
      },
      "source": [
        ""
      ],
      "execution_count": 0,
      "outputs": []
    },
    {
      "cell_type": "code",
      "metadata": {
        "id": "ZCiNVTFk-RVx",
        "colab_type": "code",
        "colab": {}
      },
      "source": [
        ""
      ],
      "execution_count": 0,
      "outputs": []
    }
  ]
}