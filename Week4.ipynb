{
  "nbformat": 4,
  "nbformat_minor": 0,
  "metadata": {
    "colab": {
      "name": "Week4.ipynb",
      "version": "0.3.2",
      "provenance": [],
      "include_colab_link": true
    },
    "kernelspec": {
      "name": "python3",
      "display_name": "Python 3"
    }
  },
  "cells": [
    {
      "cell_type": "markdown",
      "metadata": {
        "id": "view-in-github",
        "colab_type": "text"
      },
      "source": [
        "<a href=\"https://colab.research.google.com/github/KelianF/BioInformatics/blob/master/Week4.ipynb\" target=\"_parent\"><img src=\"https://colab.research.google.com/assets/colab-badge.svg\" alt=\"Open In Colab\"/></a>"
      ]
    },
    {
      "cell_type": "code",
      "metadata": {
        "id": "qmW0OlT5x7Xu",
        "colab_type": "code",
        "colab": {}
      },
      "source": [
        "import numpy as np"
      ],
      "execution_count": 0,
      "outputs": []
    },
    {
      "cell_type": "code",
      "metadata": {
        "id": "wVDNge8Igrvn",
        "colab_type": "code",
        "colab": {}
      },
      "source": [
        "def Count(Motifs):\n",
        "    count = {} # initializing the count dictionary\n",
        "    k = len(Motifs[0])\n",
        "    for symbol in \"ACGT\":\n",
        "        count[symbol] = []\n",
        "        for j in range(k):\n",
        "            count[symbol].append(0)\n",
        "\n",
        "    t = len(Motifs)\n",
        "    for i in range(t):\n",
        "        for j in range(k):\n",
        "            symbol = Motifs[i][j]\n",
        "            count[symbol][j] += 1\n",
        "    return count\n",
        "\n",
        "def Consensus(Motifs):\n",
        "    k = len(Motifs[0])\n",
        "    count = Count(Motifs)\n",
        "    consensus = \"\"\n",
        "    for j in range(k):\n",
        "        m = 0\n",
        "        frequentSymbol = \"\"\n",
        "        for symbol in \"ACGT\":\n",
        "            if count[symbol][j] > m:\n",
        "                m = count[symbol][j]\n",
        "                frequentSymbol = symbol\n",
        "        consensus += frequentSymbol\n",
        "    return consensus\n",
        "\n",
        "def Score(Motifs):\n",
        "    consensus = Consensus(Motifs)\n",
        "    t = len(Motifs)\n",
        "    k = len(Motifs[0])\n",
        "    score = 0\n",
        "    for i in range(k):\n",
        "        FrequentSymbol = consensus[i]\n",
        "        for j in range(t):\n",
        "            if Motifs[j][i] != FrequentSymbol:\n",
        "                score = score + 1\n",
        "    return score\n",
        "\n",
        "def Pr(Text, Profile):\n",
        "    p = 1\n",
        "    for i in range(len(Text)):\n",
        "        p = p * Profile[Text[i]][i]\n",
        "    return p\n",
        "\n",
        "def ProfileMostProbablePattern(Text, k, Profile):\n",
        "    p_dict = {}\n",
        "    for i in range(len(Text)- k +1):\n",
        "        p = Pr(Text[i: i+k], Profile)\n",
        "        p_dict[i] = p\n",
        "    m = max(p_dict.values())\n",
        "    keys = [k for k,v in p_dict.items() if v == m]\n",
        "    ind = keys[0]\n",
        "    return Text[ind: ind +k]\n",
        "\n",
        "def CountWithPseudocounts(Motifs):\n",
        "    t = len(Motifs)\n",
        "    k = len(Motifs[0])\n",
        "    count = {}\n",
        "    for symbol in \"ACGT\":\n",
        "        count[symbol] = []\n",
        "        for j in range(k):\n",
        "            count[symbol].append(1)\n",
        "    for i in range(t):\n",
        "        for j in range(k):\n",
        "            symbol = Motifs[i][j]\n",
        "            count[symbol][j] += 1\n",
        "    return count\n",
        "\n",
        "def ProfileWithPseudocounts(Motifs):\n",
        "    t = len(Motifs)\n",
        "    k = len(Motifs[0])\n",
        "    count = CountWithPseudocounts(Motifs)\n",
        "    profile= {}\n",
        "    ## divide the number of motif strings to get frequency\n",
        "    for letter in count.keys():\n",
        "        profile[letter] = [float(x)/ (t+4) for x in count[letter]]\n",
        "    return profile\n",
        "\n",
        "\n",
        "def GreedyMotifSearchWithPseudocounts(Dna, k, t):\n",
        "    BestMotifs = []\n",
        "    for i in range(0, t):\n",
        "        BestMotifs.append(Dna[i][0:k])\n",
        "    n = len(Dna[0])\n",
        "    for i in range(n-k+1):\n",
        "        Motifs = []\n",
        "        Motifs.append(Dna[0][i:i+k])\n",
        "        for j in range(1, t):\n",
        "            P = ProfileWithPseudocounts(Motifs[0:j])\n",
        "            Motifs.append(ProfileMostProbablePattern(Dna[j], k, P))\n",
        "        if Score(Motifs) < Score(BestMotifs):\n",
        "            BestMotifs = Motifs\n",
        "    return ' '.join([x for x in BestMotifs])"
      ],
      "execution_count": 0,
      "outputs": []
    },
    {
      "cell_type": "code",
      "metadata": {
        "id": "2LslyMuuF-bg",
        "colab_type": "code",
        "colab": {
          "base_uri": "https://localhost:8080/",
          "height": 54
        },
        "outputId": "a356196e-eace-4804-dba7-2f00acc7168b"
      },
      "source": [
        "k=15\n",
        "t=20\n",
        "DNA = [\n",
        "'ATTGCCATAGAACGAGCAGCTACGGACGGCCCGCATTCAACACTCCTAAAACGTGGCTACCGAACGCTGTCCCACGTGTTACCCCGTTGTGGATCCCTGCCCAAGCTATGACCAATACTCTGTTATCTATGGATGAGAAACTTCTAACGATCATCTTCCCCATGCGCGGTCCGAATTGCCATAGAACGA',\n",
        "'GCAGCTACGGACGGCCCGCATTCAACACTCCTAAAACGTGGCTACCGAACGCTGTCCCACGTGTTACCCCGTTGTGGATCCCTGCCCAAGCTATGACCAATACTCTGTTATCTATGGATGAGAAACGTGCACACCCTAGTCTTCTAACGATCATCTTCCCCATGCGCGGTCCGAATTGCCATAGAACGA',\n",
        "'CCATACCCAGCAGCCTAGCGTCACTCCGGCACAAACGTGTAGATATTCCGATGATGGGGGTGGCGACCCTGCCCAGAATTTGGAGACGAAATACGAATAGGCTGCGGGTGAGTTGAATAACAGATTAGACACTTTGGCAGGTCATACTGTGCGTTAGAGGGGAACGGCCCCTACTTGGGCACGCGTTAC',\n",
        "'TCTTAATCGACTCTTGAGCGCCGGGTATAACGAATGTGAGTCCAGACGAATGGTCGAGCTTCTTCTGATGTTCAGACCCTAGTCGACTACTTTTGGATGAGATAAGCCCCCCGGATCGGGGGTGGCCATGCACAGGAGCGGGCCGACGCTGTCTCGCAATTCATCCCTATTCCCGTTCTTTCCCCAGCG',\n",
        "'CCACCTCGCACACACTGGCAGATGCCGAGTTGAGGTTTAGGCACAAAGGTCATGAACTACCAGCAATGCGTGTCCTGTCTTATTGAACGGTACGTGGCGACCCGGCTCTAAACTATCAGCCCGGTTTTACCCAGCTATTGGCGACGGTTTACACGGATATTTTCACGGGGGTCGCGAGCAATATGCGAG',\n",
        "'ACAAGAATCCCGGGCAAGCGTCGCAGTTAGATGATTTGTCCTAGCTACGATGGCGACCCTAGCATTTATCCTGAGCTGTGAAGAAGATGAAGGTACTTGTTAGGGTGGTCCAGGGCGGTGGGAGGGGGAAGGCGATCTGCGATCCTCGCATCCATATGTCTAGATGAAGGCGCATCAAGTCCCTCACAA',\n",
        "'ATGTGAGATATGGCCTTCTGGGCAGACACCACACACACGGTAACTGGATGACCCCTCGGCTGCTGGTGGCGAAATTAGTCAGTTGCTAGGGAGTGGGAGAGGAGGAGCGTGTGACGAGGAATGTGTGGTCTTGAAACGAAGCGTGCCTCGCACTTTTTTTCTGCAATATTTCCCTCGATTTAAGGTCCA',\n",
        "'AAACTGCGATGAAGTGCAAGGCGTACATAGACCGCTACAGTCTTGCTGTCTTAGCCCTATGAACCAATGCCCCAGTAAGGGATCGGCCCTTGCCCGCCCAAGGTGAATTAAAGCGTGGCGCATCTAGTCGCGCAGGAGCATGCAGGAATTGAGTAAACATCTTCTATGTTTAGATCCCGTTCAGACGCC',\n",
        "'ACTCATCACCTACTGCTTAGTCATATAGATGATACGATACGGCGAGCCTCGCAGTCCCTGGGTGGCATACCTAGTCATGGTCCCACCTCAGGTGTGGAGTATCTGCTGTTTTTAGTACCAGGATTGAATGAAGCCTAGGGCCTCTGTATCTGAATTTTACCGTTGACTGCGACTCCGGAGGGTCCCGGG',\n",
        "'TCGCTCGTGGTGACTGATGTCCACTTCGTAGGGTACTATTAACCCGTGGCTGACCTAGTCCAGCCTACATAGGACGATAGGAATAACGCTGGCTTCGTTACCCACGCGAAATATCAAAGACGCCAAAACACGGAGGGGTCCCAGTGGGCTGATAGTTTCTAGGCCGCGGTTAACCCGTTAGTCTCGTTG',\n",
        "'GCTCAAGAAGTGAAAACCTGCGCTGCACATGACGATGACAGACCAGGAGTACGAGTCACTCACAATCCTTCAAAAACAGTCACTCGTGTGATCCGACCCTAGTCCCTCTTCATGTGACTGACAAAGACCGCTATCTTTGAAGAACCAATGTGTTATTGCCAAGTCGGAAATGTTAGAGCACCAGTTGGG',\n",
        "'AGGTACCGTGCATTGTCATCTTTTGCCTCTATTCTTCACGAGGGTCCGTACCATATGACCTTTTATCCATAGAGATTACGGGCCATAATCTATGGTGATTTGGTAGGACCCCGTAGTCAACAACACACGTTTGAACACAGAGAGTGGCGACCTGTGTCCACAAAGTAGGTACGTTGCGCTGCAGGAAGT',\n",
        "'GTTCGAAGACTAACCCAGGGCCCACTATACAATAGTTACAAGCTGGCCCTAACGATCTTAATCGTAAACCTCCACGACATATACATTAAGGATATATGTTGAATCGTGGTCTCAGTGGGCACTAAGAGCTAGTTAAGAGGTGGGATCCCTAGTCCGATCCTCAGGCGAGCGCGTCGTGACTGCTAGTAA',\n",
        "'GATAGTTGTGATCACCCTAGTCCGTTTTTAGCGCCGTACGTGACGATTATCGCGAGGAATCACACCTTTATCTCCCTAGAGTCAATGGCCCGATTCGATATAGTATCGGCTAGTGCCTTCATAAGTAACCACTCAGTTCAGCTCTAGCAATTACAAGGACCACGCCTCTGTCTGAGCAATGACACCGAA',\n",
        "'CTGTAATAGTTTCCGCATATTCCGATCCGAAGAGTCGAGGATTATCCTTGACCACGGGTGCAGAGTGGTCGCCGGTGCCTGTATGTAGATCCTGCAATAGTGGGCCCCCTAGTCGAATTACACTGTATCGCCGCCGGCGGTTTAACCTAATTCCTTTACTGATGCTTTTATTATAACGTTGTCCCGAGG',\n",
        "'ACATTGCATAATGCTACCTGGGCGTAGGTGGCGGAACTAGTCATATCCTAACCGACCCTGCGAGAGCACCTTTTGCCTTCCATGTCATTCGGAATGCGGTGACGTATCCACGAATGTCTGAGATGAATAGGCTAAGGCGGTGCATTACGAAAGTTGAAATGAAGACAACTAGACGCACTATTTGCGATT',\n",
        "'TTTTCGCCAATCCAGTTATGTGGTGCTCTCTACAGCCGGCAAGTCCCTGAGCCAGACTTGAATTTCTGTGGGCGACCCTAGTTGCGTACCGATCCTAAGTAGTCTGAGCACGAGGAAGTTGTGGTGTCTCCGGTGATCACCTTACCGGCTTGATTAGCTCTGCCTCAGGTCCATCGATTTTACTGCATA',\n",
        "'TAGGGTCAAGTGCGTTGAACCGGGTGAACGCGTCCGTTCTGAACCATTTCCGATTTGCGGCGAATCTTCGGACAGATAAAATGGCAGAGGGCGACTCATGGCCAATGTTAACGGTACCTGTGTACCTAGAGGTCAGCATGAGGAATTCGACGTGGCTACCCCGGCAACCGAAGTGGCGACCCTAAGGTA',\n",
        "'TCAAATAAGCCTCGTGATGTAGTCGCTTCATGAAGAGTGCGAGTAAGCCCCCATGAGTAGGTGGACCGGAGAGCGAACTCAAGTATTTAACGTTTAACGCTATCCACGTAGCTTGGTCAGCGCCCCGCGACCCTAGTCCCTGAGGAGGGTAGGGGGCGTCATCCTTAGGTGAGCTATCACCCATAGTCG',\n",
        "'CGTACGTGGGATACTGATGGCATGCTGGGCAAACTCATCCCAAAACATGCAATGCTTCGTGCCATGCAGGGGGCGAACCTGTGGCGACGAAAGTCTATGCCCCTCTGGCAAGACAACGTGATTAACCCTTCACCACCTGGGCCGCTCTTCACATGCGATGGGCGCTATAGGACCTTCAACAGTGGCTAA']\n",
        "\n",
        "GreedyMotifSearchWithPseudocounts(DNA, k, t)"
      ],
      "execution_count": 29,
      "outputs": [
        {
          "output_type": "execute_result",
          "data": {
            "text/plain": [
              "'GTGGCTACCGAACGC GTGGCTACCGAACGC GTGGCGACCCTGCCC GGAGCGGGCCGACGC GTGGCGACCCGGCTC ATGGCGACCCTAGCA GTGGCGAAATTAGTC GTGGCGCATCTAGTC GTGGCATACCTAGTC GTGGCTGACCTAGTC GATCCGACCCTAGTC GTGGCGACCTGTGTC GTGGGATCCCTAGTC GTGATCACCCTAGTC GTGGGCCCCCTAGTC GTGGCGGAACTAGTC TGGGCGACCCTAGTT GTGGCGACCCTAAGG CCCGCGACCCTAGTC GTGGCGACGAAAGTC'"
            ]
          },
          "metadata": {
            "tags": []
          },
          "execution_count": 29
        }
      ]
    },
    {
      "cell_type": "code",
      "metadata": {
        "id": "jUgEIsnpDumN",
        "colab_type": "code",
        "colab": {
          "base_uri": "https://localhost:8080/",
          "height": 34
        },
        "outputId": "0893b5cb-394e-466f-e2d4-f00d7e170543"
      },
      "source": [
        "k=3\n",
        "t=4\n",
        "DNA = [\n",
        "'TGACGTTC',\n",
        "'TAAGAGTT',\n",
        "'GGACGAAA',\n",
        "'CTGTTCGC'\n",
        "]\n",
        "\n",
        "GreedyMotifSearchWithPseudocounts(DNA, k, t)"
      ],
      "execution_count": 31,
      "outputs": [
        {
          "output_type": "execute_result",
          "data": {
            "text/plain": [
              "'ACG AAG ACG TCG'"
            ]
          },
          "metadata": {
            "tags": []
          },
          "execution_count": 31
        }
      ]
    },
    {
      "cell_type": "code",
      "metadata": {
        "id": "2cSN1ZdrKU-R",
        "colab_type": "code",
        "colab": {}
      },
      "source": [
        ""
      ],
      "execution_count": 0,
      "outputs": []
    }
  ]
}