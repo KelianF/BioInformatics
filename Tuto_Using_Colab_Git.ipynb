{
  "nbformat": 4,
  "nbformat_minor": 0,
  "metadata": {
    "colab": {
      "name": "Tuto Using Colab/Git.ipynb",
      "version": "0.3.2",
      "provenance": [],
      "collapsed_sections": [],
      "include_colab_link": true
    },
    "kernelspec": {
      "name": "python3",
      "display_name": "Python 3"
    }
  },
  "cells": [
    {
      "cell_type": "markdown",
      "metadata": {
        "id": "view-in-github",
        "colab_type": "text"
      },
      "source": [
        "<a href=\"https://colab.research.google.com/github/KelianF/BioInformatics/blob/master/Tuto_Using_Colab_Git.ipynb\" target=\"_parent\"><img src=\"https://colab.research.google.com/assets/colab-badge.svg\" alt=\"Open In Colab\"/></a>"
      ]
    },
    {
      "cell_type": "code",
      "metadata": {
        "id": "WQKH_Ctyi8PM",
        "colab_type": "code",
        "colab": {}
      },
      "source": [
        "# Navigate to file"
      ],
      "execution_count": 0,
      "outputs": []
    },
    {
      "cell_type": "code",
      "metadata": {
        "id": "wDzmT8RGjAlU",
        "colab_type": "code",
        "outputId": "0a5079ca-3487-43e6-897a-a0e7a29f1760",
        "colab": {
          "base_uri": "https://localhost:8080/",
          "height": 34
        }
      },
      "source": [
        "cd ../"
      ],
      "execution_count": 0,
      "outputs": [
        {
          "output_type": "stream",
          "text": [
            "/\n"
          ],
          "name": "stdout"
        }
      ]
    },
    {
      "cell_type": "code",
      "metadata": {
        "id": "EKLLEpdojCBI",
        "colab_type": "code",
        "outputId": "cd895363-2a01-46e9-9233-371883cf5371",
        "colab": {
          "base_uri": "https://localhost:8080/",
          "height": 87
        }
      },
      "source": [
        "ls"
      ],
      "execution_count": 0,
      "outputs": [
        {
          "output_type": "stream",
          "text": [
            "\u001b[0m\u001b[01;34mbin\u001b[0m/      \u001b[01;34mdev\u001b[0m/   \u001b[01;34mlib32\u001b[0m/  \u001b[01;34mopt\u001b[0m/   \u001b[01;34msbin\u001b[0m/   \u001b[01;34mtensorflow-2.0.0a0\u001b[0m/  \u001b[01;34mvar\u001b[0m/\n",
            "\u001b[01;34mboot\u001b[0m/     \u001b[01;34metc\u001b[0m/   \u001b[01;34mlib64\u001b[0m/  \u001b[01;34mproc\u001b[0m/  \u001b[01;34msrv\u001b[0m/    \u001b[30;42mtmp\u001b[0m/\n",
            "\u001b[01;34mcontent\u001b[0m/  \u001b[01;34mhome\u001b[0m/  \u001b[01;34mmedia\u001b[0m/  \u001b[01;34mroot\u001b[0m/  \u001b[01;34mswift\u001b[0m/  \u001b[01;34mtools\u001b[0m/\n",
            "\u001b[01;34mdatalab\u001b[0m/  \u001b[01;34mlib\u001b[0m/   \u001b[01;34mmnt\u001b[0m/    \u001b[01;34mrun\u001b[0m/   \u001b[01;34msys\u001b[0m/    \u001b[01;34musr\u001b[0m/\n"
          ],
          "name": "stdout"
        }
      ]
    },
    {
      "cell_type": "code",
      "metadata": {
        "id": "6rYepnxlj14C",
        "colab_type": "code",
        "colab": {}
      },
      "source": [
        "cd content"
      ],
      "execution_count": 0,
      "outputs": []
    },
    {
      "cell_type": "code",
      "metadata": {
        "id": "aXvR71YvjCvH",
        "colab_type": "code",
        "outputId": "009c09a2-a54b-432c-a917-957148a48bbe",
        "colab": {
          "base_uri": "https://localhost:8080/",
          "height": 34
        }
      },
      "source": [
        "# Create a File"
      ],
      "execution_count": 0,
      "outputs": [
        {
          "output_type": "stream",
          "text": [
            "/content/Projects\n"
          ],
          "name": "stdout"
        }
      ]
    },
    {
      "cell_type": "code",
      "metadata": {
        "id": "02g-XW-ZjGEg",
        "colab_type": "code",
        "colab": {}
      },
      "source": [
        "os.mkdir('Projects')"
      ],
      "execution_count": 0,
      "outputs": []
    },
    {
      "cell_type": "code",
      "metadata": {
        "id": "6miR8TcnjGq2",
        "colab_type": "code",
        "colab": {}
      },
      "source": [
        "# Deleting files or directory"
      ],
      "execution_count": 0,
      "outputs": []
    },
    {
      "cell_type": "code",
      "metadata": {
        "id": "xRDFaJ8UkUAM",
        "colab_type": "code",
        "colab": {}
      },
      "source": [
        "os.remove() removes a file.\n",
        "os.rmdir() removes an empty directory.\n",
        "shutil.rmtree() deletes a directory and all its contents.\n",
        "pathlib.Path.unlink() removes the file or symbolic link.\n",
        "pathlib.Path.rmdir() removes the empty directory."
      ],
      "execution_count": 0,
      "outputs": []
    },
    {
      "cell_type": "code",
      "metadata": {
        "id": "MC0RNbEak9pC",
        "colab_type": "code",
        "colab": {}
      },
      "source": [
        "# Cloning Git Folder"
      ],
      "execution_count": 0,
      "outputs": []
    },
    {
      "cell_type": "code",
      "metadata": {
        "id": "M_C89KWjlrCN",
        "colab_type": "code",
        "outputId": "3c1004ac-2fdd-4c98-f6d3-a7e1b7edb4be",
        "colab": {
          "base_uri": "https://localhost:8080/",
          "height": 34
        }
      },
      "source": [
        "## Check current folder first\n",
        "os.getcwd()"
      ],
      "execution_count": 0,
      "outputs": [
        {
          "output_type": "execute_result",
          "data": {
            "text/plain": [
              "'/'"
            ]
          },
          "metadata": {
            "tags": []
          },
          "execution_count": 65
        }
      ]
    },
    {
      "cell_type": "code",
      "metadata": {
        "id": "kzZgoUkdlXzw",
        "colab_type": "code",
        "outputId": "2b09835d-4c32-49b7-e830-6dd80a5d48a7",
        "colab": {
          "base_uri": "https://localhost:8080/",
          "height": 122
        }
      },
      "source": [
        "!git clone https://github.com/KelianF/BioInformatics.git"
      ],
      "execution_count": 0,
      "outputs": [
        {
          "output_type": "stream",
          "text": [
            "Cloning into 'BioInformatics'...\n",
            "remote: Enumerating objects: 8, done.\u001b[K\n",
            "remote: Counting objects:  12% (1/8)   \u001b[K\rremote: Counting objects:  25% (2/8)   \u001b[K\rremote: Counting objects:  37% (3/8)   \u001b[K\rremote: Counting objects:  50% (4/8)   \u001b[K\rremote: Counting objects:  62% (5/8)   \u001b[K\rremote: Counting objects:  75% (6/8)   \u001b[K\rremote: Counting objects:  87% (7/8)   \u001b[K\rremote: Counting objects: 100% (8/8)   \u001b[K\rremote: Counting objects: 100% (8/8), done.\u001b[K\n",
            "remote: Compressing objects:  20% (1/5)   \u001b[K\rremote: Compressing objects:  40% (2/5)   \u001b[K\rremote: Compressing objects:  60% (3/5)   \u001b[K\rremote: Compressing objects:  80% (4/5)   \u001b[K\rremote: Compressing objects: 100% (5/5)   \u001b[K\rremote: Compressing objects: 100% (5/5), done.\u001b[K\n",
            "remote: Total 8 (delta 0), reused 0 (delta 0), pack-reused 0\n",
            "Unpacking objects:  12% (1/8)   \rUnpacking objects:  25% (2/8)   \rUnpacking objects:  37% (3/8)   \rUnpacking objects:  50% (4/8)   \rUnpacking objects:  62% (5/8)   \rUnpacking objects:  75% (6/8)   \rUnpacking objects:  87% (7/8)   \rUnpacking objects: 100% (8/8)   \rUnpacking objects: 100% (8/8), done.\n"
          ],
          "name": "stdout"
        }
      ]
    },
    {
      "cell_type": "code",
      "metadata": {
        "id": "NrrB6hnultNN",
        "colab_type": "code",
        "outputId": "a744a2a2-3d56-4838-a527-f2f8bb3042da",
        "colab": {
          "base_uri": "https://localhost:8080/",
          "height": 34
        }
      },
      "source": [
        "ls"
      ],
      "execution_count": 0,
      "outputs": [
        {
          "output_type": "stream",
          "text": [
            "README.md  test.py\n"
          ],
          "name": "stdout"
        }
      ]
    },
    {
      "cell_type": "code",
      "metadata": {
        "id": "JPQi-d7clxnv",
        "colab_type": "code",
        "outputId": "c3273acc-c7cc-4a7a-d3bd-5c0e77fe0466",
        "colab": {
          "base_uri": "https://localhost:8080/",
          "height": 34
        }
      },
      "source": [
        "cd BioInformatics"
      ],
      "execution_count": 0,
      "outputs": [
        {
          "output_type": "stream",
          "text": [
            "/content/Projects/BioInformatics\n"
          ],
          "name": "stdout"
        }
      ]
    },
    {
      "cell_type": "code",
      "metadata": {
        "id": "XHqCXYe1lzoO",
        "colab_type": "code",
        "colab": {}
      },
      "source": [
        ""
      ],
      "execution_count": 0,
      "outputs": []
    }
  ]
}